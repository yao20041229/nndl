{
 "cells": [
  {
   "cell_type": "markdown",
   "metadata": {},
   "source": [
    "## 准备数据"
   ]
  },
  {
   "cell_type": "code",
   "execution_count": 26,
   "metadata": {},
   "outputs": [],
   "source": [
    "import os\n",
    "import numpy as np\n",
    "import tensorflow as tf\n",
    "from tensorflow import keras\n",
    "from tensorflow.keras import layers, optimizers, datasets\n",
    "\n",
    "os.environ['TF_CPP_MIN_LOG_LEVEL'] = '2'  # or any {'0', '1', '2'}\n",
    "\n",
    "def mnist_dataset():\n",
    "    (x, y), (x_test, y_test) = datasets.mnist.load_data()\n",
    "    #normalize\n",
    "    x = x/255.0\n",
    "    x_test = x_test/255.0\n",
    "    \n",
    "    return (x, y), (x_test, y_test)"
   ]
  },
  {
   "cell_type": "code",
   "execution_count": 27,
   "metadata": {},
   "outputs": [
    {
     "name": "stdout",
     "output_type": "stream",
     "text": [
      "[(1, 'a'), (2, 'b'), (3, 'c'), (4, 'd')]\n"
     ]
    }
   ],
   "source": [
    "print(list(zip([1, 2, 3, 4], ['a', 'b', 'c', 'd'])))"
   ]
  },
  {
   "cell_type": "markdown",
   "metadata": {},
   "source": [
    "## 建立模型"
   ]
  },
  {
   "cell_type": "code",
   "execution_count": null,
   "metadata": {},
   "outputs": [],
   "source": [
    "class myModel:\n",
    "    def __init__(self):\n",
    "        ####################\n",
    "        '''声明模型对应的参数'''\n",
    "        ####################\n",
    "        self.W1 = tf.Variable(tf.random.truncated_normal([28*28, 128], stddev=0.1))\n",
    "        self.b1 = tf.Variable(tf.zeros([128]))\n",
    "        self.W2 = tf.Variable(tf.random.truncated_normal([128, 10], stddev=0.1))\n",
    "        self.b2 = tf.Variable(tf.zeros([10]))\n",
    "    def __call__(self, x):\n",
    "        ####################\n",
    "        '''实现模型函数体，返回未归一化的logits'''\n",
    "        ####################\n",
    "        x = tf.reshape(x, [-1, 28*28])\n",
    "        h1 = tf.nn.relu(tf.matmul(x, self.W1) + self.b1)\n",
    "        logits = tf.matmul(h1, self.W2) + self.b2\n",
    "        return logits\n",
    "\n",
    "model = myModel()\n",
    "\n",
    "optimizer = optimizers.Adam()"
   ]
  },
  {
   "cell_type": "markdown",
   "metadata": {},
   "source": [
    "## 计算 loss"
   ]
  },
  {
   "cell_type": "code",
   "execution_count": 29,
   "metadata": {},
   "outputs": [],
   "source": [
    "@tf.function\n",
    "def compute_loss(logits, labels):\n",
    "    return tf.reduce_mean(\n",
    "        tf.nn.sparse_softmax_cross_entropy_with_logits(\n",
    "            logits=logits, labels=labels))\n",
    "\n",
    "@tf.function\n",
    "def compute_accuracy(logits, labels):\n",
    "    predictions = tf.argmax(logits, axis=1)\n",
    "    return tf.reduce_mean(tf.cast(tf.equal(predictions, labels), tf.float32))\n",
    "\n",
    "@tf.function\n",
    "def train_one_step(model, optimizer, x, y):\n",
    "    with tf.GradientTape() as tape:\n",
    "        logits = model(x)\n",
    "        loss = compute_loss(logits, y)\n",
    "\n",
    "    # compute gradient\n",
    "    trainable_vars = [model.W1, model.W2, model.b1, model.b2]\n",
    "    grads = tape.gradient(loss, trainable_vars)\n",
    "    for g, v in zip(grads, trainable_vars):\n",
    "        v.assign_sub(0.01*g)\n",
    "\n",
    "    accuracy = compute_accuracy(logits, y)\n",
    "\n",
    "    # loss and accuracy is scalar tensor\n",
    "    return loss, accuracy\n",
    "\n",
    "@tf.function\n",
    "def test(model, x, y):\n",
    "    logits = model(x)\n",
    "    loss = compute_loss(logits, y)\n",
    "    accuracy = compute_accuracy(logits, y)\n",
    "    return loss, accuracy"
   ]
  },
  {
   "cell_type": "markdown",
   "metadata": {},
   "source": [
    "## 实际训练"
   ]
  },
  {
   "cell_type": "code",
   "execution_count": 30,
   "metadata": {},
   "outputs": [
    {
     "name": "stdout",
     "output_type": "stream",
     "text": [
      "epoch 0 : loss 2.5492089 ; accuracy 0.0828\n",
      "epoch 1 : loss 2.5276842 ; accuracy 0.08601667\n",
      "epoch 2 : loss 2.5072677 ; accuracy 0.08936667\n",
      "epoch 3 : loss 2.487867 ; accuracy 0.09335\n",
      "epoch 4 : loss 2.4693954 ; accuracy 0.098\n",
      "epoch 5 : loss 2.4517736 ; accuracy 0.10305\n",
      "epoch 6 : loss 2.4349353 ; accuracy 0.108616665\n",
      "epoch 7 : loss 2.4188151 ; accuracy 0.11365\n",
      "epoch 8 : loss 2.4033551 ; accuracy 0.120066665\n",
      "epoch 9 : loss 2.3885074 ; accuracy 0.12598333\n",
      "epoch 10 : loss 2.3742218 ; accuracy 0.13216667\n",
      "epoch 11 : loss 2.3604562 ; accuracy 0.13816667\n",
      "epoch 12 : loss 2.3471708 ; accuracy 0.14483333\n",
      "epoch 13 : loss 2.3343306 ; accuracy 0.15095\n",
      "epoch 14 : loss 2.3219025 ; accuracy 0.15721667\n",
      "epoch 15 : loss 2.309858 ; accuracy 0.16345\n",
      "epoch 16 : loss 2.2981708 ; accuracy 0.17025\n",
      "epoch 17 : loss 2.2868156 ; accuracy 0.17633334\n",
      "epoch 18 : loss 2.2757704 ; accuracy 0.18225\n",
      "epoch 19 : loss 2.2650135 ; accuracy 0.18798333\n",
      "epoch 20 : loss 2.2545276 ; accuracy 0.19386667\n",
      "epoch 21 : loss 2.244294 ; accuracy 0.19965\n",
      "epoch 22 : loss 2.2342968 ; accuracy 0.2055\n",
      "epoch 23 : loss 2.224521 ; accuracy 0.21121667\n",
      "epoch 24 : loss 2.2149515 ; accuracy 0.21753334\n",
      "epoch 25 : loss 2.205576 ; accuracy 0.22348334\n",
      "epoch 26 : loss 2.1963828 ; accuracy 0.22831666\n",
      "epoch 27 : loss 2.1873617 ; accuracy 0.23411667\n",
      "epoch 28 : loss 2.1785002 ; accuracy 0.23931667\n",
      "epoch 29 : loss 2.1697896 ; accuracy 0.2448\n",
      "epoch 30 : loss 2.1612225 ; accuracy 0.24993333\n",
      "epoch 31 : loss 2.1527889 ; accuracy 0.25526667\n",
      "epoch 32 : loss 2.1444821 ; accuracy 0.26051667\n",
      "epoch 33 : loss 2.1362953 ; accuracy 0.26633334\n",
      "epoch 34 : loss 2.1282227 ; accuracy 0.27151668\n",
      "epoch 35 : loss 2.120258 ; accuracy 0.27698332\n",
      "epoch 36 : loss 2.1123948 ; accuracy 0.28216666\n",
      "epoch 37 : loss 2.1046276 ; accuracy 0.28768334\n",
      "epoch 38 : loss 2.0969522 ; accuracy 0.29255\n",
      "epoch 39 : loss 2.0893645 ; accuracy 0.29741666\n",
      "epoch 40 : loss 2.0818598 ; accuracy 0.30285\n",
      "epoch 41 : loss 2.0744345 ; accuracy 0.30756667\n",
      "epoch 42 : loss 2.0670853 ; accuracy 0.31308332\n",
      "epoch 43 : loss 2.059807 ; accuracy 0.31835\n",
      "epoch 44 : loss 2.0525968 ; accuracy 0.3238\n",
      "epoch 45 : loss 2.0454519 ; accuracy 0.32926667\n",
      "epoch 46 : loss 2.0383692 ; accuracy 0.33445\n",
      "epoch 47 : loss 2.0313463 ; accuracy 0.33933333\n",
      "epoch 48 : loss 2.0243812 ; accuracy 0.34446666\n",
      "epoch 49 : loss 2.0174706 ; accuracy 0.34931666\n",
      "test loss 2.0163214 ; accuracy 0.3477\n"
     ]
    }
   ],
   "source": [
    "train_data, test_data = mnist_dataset()\n",
    "for epoch in range(50):\n",
    "    loss, accuracy = train_one_step(model, optimizer, \n",
    "                                    tf.constant(train_data[0], dtype=tf.float32), \n",
    "                                    tf.constant(train_data[1], dtype=tf.int64))\n",
    "    print('epoch', epoch, ': loss', loss.numpy(), '; accuracy', accuracy.numpy())\n",
    "loss, accuracy = test(model, \n",
    "                      tf.constant(test_data[0], dtype=tf.float32), \n",
    "                      tf.constant(test_data[1], dtype=tf.int64))\n",
    "\n",
    "print('test loss', loss.numpy(), '; accuracy', accuracy.numpy())"
   ]
  }
 ],
 "metadata": {
  "kernelspec": {
   "display_name": "Python 3",
   "language": "python",
   "name": "python3"
  },
  "language_info": {
   "codemirror_mode": {
    "name": "ipython",
    "version": 3
   },
   "file_extension": ".py",
   "mimetype": "text/x-python",
   "name": "python",
   "nbconvert_exporter": "python",
   "pygments_lexer": "ipython3",
   "version": "3.12.2"
  }
 },
 "nbformat": 4,
 "nbformat_minor": 2
}
